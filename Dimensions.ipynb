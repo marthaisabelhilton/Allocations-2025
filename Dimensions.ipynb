{
 "cells": [
  {
   "cell_type": "code",
   "execution_count": 1,
   "id": "045a0985",
   "metadata": {},
   "outputs": [],
   "source": [
    "import pandas as pd\n",
    "import numpy as np"
   ]
  },
  {
   "cell_type": "code",
   "execution_count": 2,
   "id": "eb128329",
   "metadata": {},
   "outputs": [],
   "source": [
    "data_for = pd.read_csv('dimension_ukri_grants_for_270825.csv')"
   ]
  },
  {
   "cell_type": "code",
   "execution_count": 3,
   "id": "922b6ec0",
   "metadata": {},
   "outputs": [
    {
     "data": {
      "text/plain": [
       "np.int64(3448)"
      ]
     },
     "execution_count": 3,
     "metadata": {},
     "output_type": "execute_result"
    }
   ],
   "source": [
    "data_for['for_code'].isna().sum()"
   ]
  },
  {
   "cell_type": "code",
   "execution_count": 4,
   "id": "a2530f81",
   "metadata": {},
   "outputs": [
    {
     "data": {
      "application/vnd.microsoft.datawrangler.viewer.v0+json": {
       "columns": [
        {
         "name": "index",
         "rawType": "int64",
         "type": "integer"
        },
        {
         "name": "for_code",
         "rawType": "float64",
         "type": "float"
        },
        {
         "name": "for_name",
         "rawType": "object",
         "type": "unknown"
        },
        {
         "name": "for_level",
         "rawType": "object",
         "type": "string"
        }
       ],
       "ref": "ab1fed8d-095e-475d-ac76-f8deb990c6d5",
       "rows": [
        [
         "82",
         "30.0",
         "Agricultural, Veterinary and Food Sciences",
         "FoR 1"
        ],
        [
         "35",
         "31.0",
         "Biological Sciences",
         "FoR 1"
        ],
        [
         "10",
         "32.0",
         "Biomedical and Clinical Sciences",
         "FoR 1"
        ],
        [
         "4",
         "33.0",
         "Built Environment and Design",
         "FoR 1"
        ],
        [
         "0",
         "34.0",
         "Chemical Sciences",
         "FoR 1"
        ],
        [
         "329",
         "35.0",
         "Commerce, Management, Tourism and Services",
         "FoR 1"
        ],
        [
         "7",
         "36.0",
         "Creative Arts and Writing",
         "FoR 1"
        ],
        [
         "16",
         "37.0",
         "Earth Sciences",
         "FoR 1"
        ],
        [
         "472",
         "38.0",
         "Economics",
         "FoR 1"
        ],
        [
         "585",
         "39.0",
         "Education",
         "FoR 1"
        ],
        [
         "22",
         "40.0",
         "Engineering",
         "FoR 1"
        ],
        [
         "83",
         "41.0",
         "Environmental Sciences",
         "FoR 1"
        ],
        [
         "167",
         "42.0",
         "Health Sciences",
         "FoR 1"
        ],
        [
         "44",
         "43.0",
         "History, Heritage and Archaeology",
         "FoR 1"
        ],
        [
         "88",
         "44.0",
         "Human Society",
         "FoR 1"
        ],
        [
         "29",
         "46.0",
         "Information and Computing Sciences",
         "FoR 1"
        ],
        [
         "5",
         "47.0",
         "Language, Communication and Culture",
         "FoR 1"
        ],
        [
         "1",
         "48.0",
         "Law and Legal Studies",
         "FoR 1"
        ],
        [
         "15",
         "49.0",
         "Mathematical Sciences",
         "FoR 1"
        ],
        [
         "37",
         "50.0",
         "Philosophy and Religious Studies",
         "FoR 1"
        ],
        [
         "8",
         "51.0",
         "Physical Sciences",
         "FoR 1"
        ],
        [
         "152",
         "52.0",
         "Psychology",
         "FoR 1"
        ],
        [
         "177",
         "3001.0",
         "Agricultural Biotechnology",
         "FoR 2"
        ],
        [
         "1893",
         "3002.0",
         "Agriculture, Land and Farm Management",
         "FoR 2"
        ],
        [
         "651",
         "3003.0",
         "Animal Production",
         "FoR 2"
        ],
        [
         "279",
         "3004.0",
         "Crop and Pasture Production",
         "FoR 2"
        ],
        [
         "865",
         "3005.0",
         "Fisheries Sciences",
         "FoR 2"
        ],
        [
         "204",
         "3006.0",
         "Food Sciences",
         "FoR 2"
        ],
        [
         "265",
         "3007.0",
         "Forestry Sciences",
         "FoR 2"
        ],
        [
         "725",
         "3008.0",
         "Horticultural Production",
         "FoR 2"
        ],
        [
         "3186",
         "3009.0",
         "Veterinary Sciences",
         "FoR 2"
        ],
        [
         "633",
         "3101.0",
         "Biochemistry and Cell Biology",
         "FoR 2"
        ],
        [
         "175",
         "3102.0",
         "Bioinformatics and Computational Biology",
         "FoR 2"
        ],
        [
         "148",
         "3103.0",
         "Ecology",
         "FoR 2"
        ],
        [
         "297",
         "3104.0",
         "Evolutionary Biology",
         "FoR 2"
        ],
        [
         "174",
         "3105.0",
         "Genetics",
         "FoR 2"
        ],
        [
         "694",
         "3106.0",
         "Industrial Biotechnology",
         "FoR 2"
        ],
        [
         "907",
         "3107.0",
         "Microbiology",
         "FoR 2"
        ],
        [
         "1134",
         "3108.0",
         "Plant Biology",
         "FoR 2"
        ],
        [
         "1866",
         "3109.0",
         "Zoology",
         "FoR 2"
        ],
        [
         "4802",
         "3201.0",
         "Cardiovascular Medicine and Haematology",
         "FoR 2"
        ],
        [
         "9",
         "3202.0",
         "Clinical Sciences",
         "FoR 2"
        ],
        [
         "2808",
         "3203.0",
         "Dentistry",
         "FoR 2"
        ],
        [
         "1601",
         "3204.0",
         "Immunology",
         "FoR 2"
        ],
        [
         "3248",
         "3205.0",
         "Medical Biochemistry and Metabolomics",
         "FoR 2"
        ],
        [
         "752",
         "3206.0",
         "Medical Biotechnology",
         "FoR 2"
        ],
        [
         "1984",
         "3207.0",
         "Medical Microbiology",
         "FoR 2"
        ],
        [
         "3712",
         "3208.0",
         "Medical Physiology",
         "FoR 2"
        ],
        [
         "3422",
         "3209.0",
         "Neurosciences",
         "FoR 2"
        ],
        [
         "1669",
         "3210.0",
         "Nutrition and Dietetics",
         "FoR 2"
        ]
       ],
       "shape": {
        "columns": 3,
        "rows": 194
       }
      },
      "text/html": [
       "<div>\n",
       "<style scoped>\n",
       "    .dataframe tbody tr th:only-of-type {\n",
       "        vertical-align: middle;\n",
       "    }\n",
       "\n",
       "    .dataframe tbody tr th {\n",
       "        vertical-align: top;\n",
       "    }\n",
       "\n",
       "    .dataframe thead th {\n",
       "        text-align: right;\n",
       "    }\n",
       "</style>\n",
       "<table border=\"1\" class=\"dataframe\">\n",
       "  <thead>\n",
       "    <tr style=\"text-align: right;\">\n",
       "      <th></th>\n",
       "      <th>for_code</th>\n",
       "      <th>for_name</th>\n",
       "      <th>for_level</th>\n",
       "    </tr>\n",
       "  </thead>\n",
       "  <tbody>\n",
       "    <tr>\n",
       "      <th>82</th>\n",
       "      <td>30.0</td>\n",
       "      <td>Agricultural, Veterinary and Food Sciences</td>\n",
       "      <td>FoR 1</td>\n",
       "    </tr>\n",
       "    <tr>\n",
       "      <th>35</th>\n",
       "      <td>31.0</td>\n",
       "      <td>Biological Sciences</td>\n",
       "      <td>FoR 1</td>\n",
       "    </tr>\n",
       "    <tr>\n",
       "      <th>10</th>\n",
       "      <td>32.0</td>\n",
       "      <td>Biomedical and Clinical Sciences</td>\n",
       "      <td>FoR 1</td>\n",
       "    </tr>\n",
       "    <tr>\n",
       "      <th>4</th>\n",
       "      <td>33.0</td>\n",
       "      <td>Built Environment and Design</td>\n",
       "      <td>FoR 1</td>\n",
       "    </tr>\n",
       "    <tr>\n",
       "      <th>0</th>\n",
       "      <td>34.0</td>\n",
       "      <td>Chemical Sciences</td>\n",
       "      <td>FoR 1</td>\n",
       "    </tr>\n",
       "    <tr>\n",
       "      <th>...</th>\n",
       "      <td>...</td>\n",
       "      <td>...</td>\n",
       "      <td>...</td>\n",
       "    </tr>\n",
       "    <tr>\n",
       "      <th>953</th>\n",
       "      <td>5203.0</td>\n",
       "      <td>Clinical and Health Psychology</td>\n",
       "      <td>FoR 2</td>\n",
       "    </tr>\n",
       "    <tr>\n",
       "      <th>991</th>\n",
       "      <td>5204.0</td>\n",
       "      <td>Cognitive and Computational Psychology</td>\n",
       "      <td>FoR 2</td>\n",
       "    </tr>\n",
       "    <tr>\n",
       "      <th>10161</th>\n",
       "      <td>5205.0</td>\n",
       "      <td>Social and Personality Psychology</td>\n",
       "      <td>FoR 2</td>\n",
       "    </tr>\n",
       "    <tr>\n",
       "      <th>526</th>\n",
       "      <td>NaN</td>\n",
       "      <td>NaN</td>\n",
       "      <td>FoR 2</td>\n",
       "    </tr>\n",
       "    <tr>\n",
       "      <th>527</th>\n",
       "      <td>NaN</td>\n",
       "      <td>NaN</td>\n",
       "      <td>FoR 1</td>\n",
       "    </tr>\n",
       "  </tbody>\n",
       "</table>\n",
       "<p>194 rows × 3 columns</p>\n",
       "</div>"
      ],
      "text/plain": [
       "       for_code                                    for_name for_level\n",
       "82         30.0  Agricultural, Veterinary and Food Sciences     FoR 1\n",
       "35         31.0                         Biological Sciences     FoR 1\n",
       "10         32.0            Biomedical and Clinical Sciences     FoR 1\n",
       "4          33.0                Built Environment and Design     FoR 1\n",
       "0          34.0                           Chemical Sciences     FoR 1\n",
       "...         ...                                         ...       ...\n",
       "953      5203.0              Clinical and Health Psychology     FoR 2\n",
       "991      5204.0      Cognitive and Computational Psychology     FoR 2\n",
       "10161    5205.0           Social and Personality Psychology     FoR 2\n",
       "526         NaN                                         NaN     FoR 2\n",
       "527         NaN                                         NaN     FoR 1\n",
       "\n",
       "[194 rows x 3 columns]"
      ]
     },
     "execution_count": 4,
     "metadata": {},
     "output_type": "execute_result"
    }
   ],
   "source": [
    "data_for[['for_code', 'for_name', 'for_level']].drop_duplicates().sort_values('for_code')"
   ]
  },
  {
   "cell_type": "code",
   "execution_count": 5,
   "id": "db49986e",
   "metadata": {},
   "outputs": [
    {
     "data": {
      "application/vnd.microsoft.datawrangler.viewer.v0+json": {
       "columns": [
        {
         "name": "index",
         "rawType": "int64",
         "type": "integer"
        },
        {
         "name": "ukri_grant_id",
         "rawType": "object",
         "type": "string"
        }
       ],
       "ref": "bfae283f-a286-40c0-8983-6acf84c1f62d",
       "rows": [
        [
         "88226",
         "2458650"
        ]
       ],
       "shape": {
        "columns": 1,
        "rows": 1
       }
      },
      "text/plain": [
       "88226    2458650\n",
       "Name: ukri_grant_id, dtype: object"
      ]
     },
     "execution_count": 5,
     "metadata": {},
     "output_type": "execute_result"
    }
   ],
   "source": [
    "data_for['ukri_grant_id'].sample()\n"
   ]
  },
  {
   "cell_type": "code",
   "execution_count": 6,
   "id": "c5776c2a",
   "metadata": {},
   "outputs": [
    {
     "data": {
      "application/vnd.microsoft.datawrangler.viewer.v0+json": {
       "columns": [
        {
         "name": "index",
         "rawType": "int64",
         "type": "integer"
        },
        {
         "name": "Unnamed: 0",
         "rawType": "int64",
         "type": "integer"
        },
        {
         "name": "dimensions_grant_id",
         "rawType": "object",
         "type": "string"
        },
        {
         "name": "ukri_grant_id",
         "rawType": "object",
         "type": "string"
        },
        {
         "name": "research_council",
         "rawType": "object",
         "type": "string"
        },
        {
         "name": "start_year",
         "rawType": "int64",
         "type": "integer"
        },
        {
         "name": "start_date",
         "rawType": "object",
         "type": "string"
        },
        {
         "name": "end_year",
         "rawType": "float64",
         "type": "float"
        },
        {
         "name": "end_date",
         "rawType": "object",
         "type": "string"
        },
        {
         "name": "grant_title",
         "rawType": "object",
         "type": "string"
        },
        {
         "name": "funding_gbp",
         "rawType": "float64",
         "type": "float"
        },
        {
         "name": "for_level",
         "rawType": "object",
         "type": "string"
        },
        {
         "name": "for_code",
         "rawType": "float64",
         "type": "float"
        },
        {
         "name": "for_name",
         "rawType": "object",
         "type": "string"
        }
       ],
       "ref": "51f5c04d-bc2d-4be2-a6ce-a2b1253bb591",
       "rows": [
        [
         "200567",
         "200567",
         "grant.13905327",
         "EP/Y029585/1",
         "UK Research and Innovation",
         "2023",
         "2023-12-01",
         "2025.0",
         "2025-11-30",
         "Ecological and Evolutionary framework for the design of novel bacteriophage therapy products",
         "200511.0",
         "FoR 2",
         "3207.0",
         "Medical Microbiology"
        ],
        [
         "200568",
         "200568",
         "grant.13905327",
         "EP/Y029585/1",
         "UK Research and Innovation",
         "2023",
         "2023-12-01",
         "2025.0",
         "2025-11-30",
         "Ecological and Evolutionary framework for the design of novel bacteriophage therapy products",
         "200511.0",
         "FoR 2",
         "3107.0",
         "Microbiology"
        ],
        [
         "200569",
         "200569",
         "grant.13905327",
         "EP/Y029585/1",
         "UK Research and Innovation",
         "2023",
         "2023-12-01",
         "2025.0",
         "2025-11-30",
         "Ecological and Evolutionary framework for the design of novel bacteriophage therapy products",
         "200511.0",
         "FoR 1",
         "31.0",
         "Biological Sciences"
        ],
        [
         "200570",
         "200570",
         "grant.13905327",
         "EP/Y029585/1",
         "UK Research and Innovation",
         "2023",
         "2023-12-01",
         "2025.0",
         "2025-11-30",
         "Ecological and Evolutionary framework for the design of novel bacteriophage therapy products",
         "200511.0",
         "FoR 1",
         "32.0",
         "Biomedical and Clinical Sciences"
        ]
       ],
       "shape": {
        "columns": 13,
        "rows": 4
       }
      },
      "text/html": [
       "<div>\n",
       "<style scoped>\n",
       "    .dataframe tbody tr th:only-of-type {\n",
       "        vertical-align: middle;\n",
       "    }\n",
       "\n",
       "    .dataframe tbody tr th {\n",
       "        vertical-align: top;\n",
       "    }\n",
       "\n",
       "    .dataframe thead th {\n",
       "        text-align: right;\n",
       "    }\n",
       "</style>\n",
       "<table border=\"1\" class=\"dataframe\">\n",
       "  <thead>\n",
       "    <tr style=\"text-align: right;\">\n",
       "      <th></th>\n",
       "      <th>Unnamed: 0</th>\n",
       "      <th>dimensions_grant_id</th>\n",
       "      <th>ukri_grant_id</th>\n",
       "      <th>research_council</th>\n",
       "      <th>start_year</th>\n",
       "      <th>start_date</th>\n",
       "      <th>end_year</th>\n",
       "      <th>end_date</th>\n",
       "      <th>grant_title</th>\n",
       "      <th>funding_gbp</th>\n",
       "      <th>for_level</th>\n",
       "      <th>for_code</th>\n",
       "      <th>for_name</th>\n",
       "    </tr>\n",
       "  </thead>\n",
       "  <tbody>\n",
       "    <tr>\n",
       "      <th>200567</th>\n",
       "      <td>200567</td>\n",
       "      <td>grant.13905327</td>\n",
       "      <td>EP/Y029585/1</td>\n",
       "      <td>UK Research and Innovation</td>\n",
       "      <td>2023</td>\n",
       "      <td>2023-12-01</td>\n",
       "      <td>2025.0</td>\n",
       "      <td>2025-11-30</td>\n",
       "      <td>Ecological and Evolutionary framework for the ...</td>\n",
       "      <td>200511.0</td>\n",
       "      <td>FoR 2</td>\n",
       "      <td>3207.0</td>\n",
       "      <td>Medical Microbiology</td>\n",
       "    </tr>\n",
       "    <tr>\n",
       "      <th>200568</th>\n",
       "      <td>200568</td>\n",
       "      <td>grant.13905327</td>\n",
       "      <td>EP/Y029585/1</td>\n",
       "      <td>UK Research and Innovation</td>\n",
       "      <td>2023</td>\n",
       "      <td>2023-12-01</td>\n",
       "      <td>2025.0</td>\n",
       "      <td>2025-11-30</td>\n",
       "      <td>Ecological and Evolutionary framework for the ...</td>\n",
       "      <td>200511.0</td>\n",
       "      <td>FoR 2</td>\n",
       "      <td>3107.0</td>\n",
       "      <td>Microbiology</td>\n",
       "    </tr>\n",
       "    <tr>\n",
       "      <th>200569</th>\n",
       "      <td>200569</td>\n",
       "      <td>grant.13905327</td>\n",
       "      <td>EP/Y029585/1</td>\n",
       "      <td>UK Research and Innovation</td>\n",
       "      <td>2023</td>\n",
       "      <td>2023-12-01</td>\n",
       "      <td>2025.0</td>\n",
       "      <td>2025-11-30</td>\n",
       "      <td>Ecological and Evolutionary framework for the ...</td>\n",
       "      <td>200511.0</td>\n",
       "      <td>FoR 1</td>\n",
       "      <td>31.0</td>\n",
       "      <td>Biological Sciences</td>\n",
       "    </tr>\n",
       "    <tr>\n",
       "      <th>200570</th>\n",
       "      <td>200570</td>\n",
       "      <td>grant.13905327</td>\n",
       "      <td>EP/Y029585/1</td>\n",
       "      <td>UK Research and Innovation</td>\n",
       "      <td>2023</td>\n",
       "      <td>2023-12-01</td>\n",
       "      <td>2025.0</td>\n",
       "      <td>2025-11-30</td>\n",
       "      <td>Ecological and Evolutionary framework for the ...</td>\n",
       "      <td>200511.0</td>\n",
       "      <td>FoR 1</td>\n",
       "      <td>32.0</td>\n",
       "      <td>Biomedical and Clinical Sciences</td>\n",
       "    </tr>\n",
       "  </tbody>\n",
       "</table>\n",
       "</div>"
      ],
      "text/plain": [
       "        Unnamed: 0 dimensions_grant_id ukri_grant_id  \\\n",
       "200567      200567      grant.13905327  EP/Y029585/1   \n",
       "200568      200568      grant.13905327  EP/Y029585/1   \n",
       "200569      200569      grant.13905327  EP/Y029585/1   \n",
       "200570      200570      grant.13905327  EP/Y029585/1   \n",
       "\n",
       "                  research_council  start_year  start_date  end_year  \\\n",
       "200567  UK Research and Innovation        2023  2023-12-01    2025.0   \n",
       "200568  UK Research and Innovation        2023  2023-12-01    2025.0   \n",
       "200569  UK Research and Innovation        2023  2023-12-01    2025.0   \n",
       "200570  UK Research and Innovation        2023  2023-12-01    2025.0   \n",
       "\n",
       "          end_date                                        grant_title  \\\n",
       "200567  2025-11-30  Ecological and Evolutionary framework for the ...   \n",
       "200568  2025-11-30  Ecological and Evolutionary framework for the ...   \n",
       "200569  2025-11-30  Ecological and Evolutionary framework for the ...   \n",
       "200570  2025-11-30  Ecological and Evolutionary framework for the ...   \n",
       "\n",
       "        funding_gbp for_level  for_code                          for_name  \n",
       "200567     200511.0     FoR 2    3207.0              Medical Microbiology  \n",
       "200568     200511.0     FoR 2    3107.0                      Microbiology  \n",
       "200569     200511.0     FoR 1      31.0               Biological Sciences  \n",
       "200570     200511.0     FoR 1      32.0  Biomedical and Clinical Sciences  "
      ]
     },
     "execution_count": 6,
     "metadata": {},
     "output_type": "execute_result"
    }
   ],
   "source": [
    "data_for[data_for['ukri_grant_id']=='EP/Y029585/1']"
   ]
  },
  {
   "cell_type": "code",
   "execution_count": 7,
   "id": "0c7120b4",
   "metadata": {},
   "outputs": [],
   "source": [
    "for_count = data_for.groupby(['ukri_grant_id', 'for_level'], as_index=False).agg({'for_code':'nunique'}).rename(columns={'for_code':'for_count'})\n"
   ]
  },
  {
   "cell_type": "code",
   "execution_count": 8,
   "id": "c5020098",
   "metadata": {},
   "outputs": [],
   "source": [
    "data_for_merge = pd.merge(data_for, for_count, on=['ukri_grant_id', 'for_level'])\n"
   ]
  },
  {
   "cell_type": "code",
   "execution_count": 9,
   "id": "03dacee9",
   "metadata": {},
   "outputs": [
    {
     "name": "stdout",
     "output_type": "stream",
     "text": [
      "89292\n"
     ]
    },
    {
     "data": {
      "text/plain": [
       "array(['11440', '11475', '11476', ..., '2939465', '2941347', '2938324'],\n",
       "      shape=(1724,), dtype=object)"
      ]
     },
     "execution_count": 9,
     "metadata": {},
     "output_type": "execute_result"
    }
   ],
   "source": [
    "data_for_merge.isna().sum()\n",
    "\n",
    "print(len(data_for_merge['ukri_grant_id'].unique()))\n",
    "\n",
    "data_for_merge[data_for_merge['for_code'].isna()]['ukri_grant_id'].unique() # 1724 grants with no FOR code"
   ]
  },
  {
   "cell_type": "code",
   "execution_count": 10,
   "id": "c1f0baa2",
   "metadata": {},
   "outputs": [
    {
     "data": {
      "text/plain": [
       "3448"
      ]
     },
     "execution_count": 10,
     "metadata": {},
     "output_type": "execute_result"
    }
   ],
   "source": [
    "1724*2"
   ]
  },
  {
   "cell_type": "code",
   "execution_count": 11,
   "id": "a1f1958a",
   "metadata": {},
   "outputs": [],
   "source": [
    "data_for_merge.dropna(subset=['for_code'], inplace=True)"
   ]
  },
  {
   "cell_type": "code",
   "execution_count": 12,
   "id": "cdb11aa6",
   "metadata": {},
   "outputs": [
    {
     "data": {
      "text/plain": [
       "np.int64(600)"
      ]
     },
     "execution_count": 12,
     "metadata": {},
     "output_type": "execute_result"
    }
   ],
   "source": [
    "data_for_merge['start_date'].isna().sum()\n",
    "data_for_merge['end_date'].isna().sum()"
   ]
  },
  {
   "cell_type": "code",
   "execution_count": 13,
   "id": "67800bb3",
   "metadata": {},
   "outputs": [],
   "source": [
    "data_for_merge.dropna(subset=['start_date', 'end_date'], inplace=True)"
   ]
  },
  {
   "cell_type": "code",
   "execution_count": 14,
   "id": "953fb773",
   "metadata": {},
   "outputs": [],
   "source": [
    "data_for_merge['start_date'] = pd.to_datetime(data_for_merge['start_date'])\n",
    "data_for_merge['end_date'] = pd.to_datetime(data_for_merge['end_date'])\n"
   ]
  },
  {
   "cell_type": "code",
   "execution_count": 15,
   "id": "0621519e",
   "metadata": {},
   "outputs": [],
   "source": [
    "data_for_merge['start_year'] = data_for_merge['start_date'].dt.year\n",
    "data_for_merge['end_year'] = data_for_merge['end_date'].dt.year"
   ]
  },
  {
   "cell_type": "code",
   "execution_count": 16,
   "id": "900b4635",
   "metadata": {},
   "outputs": [],
   "source": [
    "data_for_merge['fraction'] = 1 / data_for_merge['for_count']"
   ]
  },
  {
   "cell_type": "code",
   "execution_count": 17,
   "id": "5aaf6f1f",
   "metadata": {},
   "outputs": [
    {
     "data": {
      "text/plain": [
       "np.int64(98176)"
      ]
     },
     "execution_count": 17,
     "metadata": {},
     "output_type": "execute_result"
    }
   ],
   "source": [
    "data_for_merge['funding_gbp'].isna().sum()"
   ]
  },
  {
   "cell_type": "code",
   "execution_count": 18,
   "id": "b2ecbaa4",
   "metadata": {},
   "outputs": [],
   "source": [
    "data_for_merge.dropna(subset=['funding_gbp'], inplace=True)"
   ]
  },
  {
   "cell_type": "code",
   "execution_count": 19,
   "id": "17953745",
   "metadata": {},
   "outputs": [],
   "source": [
    "data_for_merge['funding_frac'] = data_for_merge['funding_gbp'] * data_for_merge['fraction']"
   ]
  },
  {
   "cell_type": "code",
   "execution_count": 20,
   "id": "7b9c7e3b",
   "metadata": {},
   "outputs": [],
   "source": [
    "data_for_group = data_for_merge.groupby(['for_level', 'for_code', 'for_name', 'start_year'], as_index=False).agg({'ukri_grant_id':'nunique', 'funding_frac':'sum'}).rename(columns={'ukri_grant_id':'grant_count', 'funding_frac':'funding_total'})"
   ]
  },
  {
   "cell_type": "code",
   "execution_count": 21,
   "id": "2bb9e143",
   "metadata": {},
   "outputs": [
    {
     "data": {
      "text/plain": [
       "array(['Agricultural, Veterinary and Food Sciences',\n",
       "       'Biological Sciences', 'Biomedical and Clinical Sciences',\n",
       "       'Built Environment and Design', 'Chemical Sciences',\n",
       "       'Commerce, Management, Tourism and Services',\n",
       "       'Creative Arts and Writing', 'Earth Sciences', 'Economics',\n",
       "       'Education', 'Engineering', 'Environmental Sciences',\n",
       "       'Health Sciences', 'History, Heritage and Archaeology',\n",
       "       'Human Society', 'Information and Computing Sciences',\n",
       "       'Language, Communication and Culture', 'Law and Legal Studies',\n",
       "       'Mathematical Sciences', 'Philosophy and Religious Studies',\n",
       "       'Physical Sciences', 'Psychology'], dtype=object)"
      ]
     },
     "execution_count": 21,
     "metadata": {},
     "output_type": "execute_result"
    }
   ],
   "source": [
    "data_for_group[['for_level', 'for_code']].value_counts()\n",
    "\n",
    "data_for_group[data_for_group['for_level']=='FoR 1']['for_name'].unique()"
   ]
  },
  {
   "cell_type": "code",
   "execution_count": 22,
   "id": "92eff860",
   "metadata": {},
   "outputs": [],
   "source": [
    "data_for_group[data_for_group['for_level']=='FoR 1'].pivot(index=['for_level', 'for_code', 'for_name'], columns='start_year', values='funding_total').reset_index().to_csv('for1_funding_by_year.csv', index=False)"
   ]
  },
  {
   "cell_type": "code",
   "execution_count": 23,
   "id": "f2fd7c0f",
   "metadata": {},
   "outputs": [],
   "source": [
    "data_for_group[data_for_group['for_level']=='FoR 1'].pivot(index=['for_level', 'for_code', 'for_name'], columns='start_year', values='grant_count').reset_index().to_csv('for1_grants_by_year.csv', index=False)"
   ]
  },
  {
   "cell_type": "code",
   "execution_count": 24,
   "id": "c5b90297",
   "metadata": {},
   "outputs": [
    {
     "data": {
      "text/plain": [
       "89292"
      ]
     },
     "execution_count": 24,
     "metadata": {},
     "output_type": "execute_result"
    }
   ],
   "source": [
    "data_for['ukri_grant_id'].nunique()"
   ]
  },
  {
   "cell_type": "code",
   "execution_count": 25,
   "id": "a22d1f7e",
   "metadata": {},
   "outputs": [
    {
     "data": {
      "text/plain": [
       "50389"
      ]
     },
     "execution_count": 25,
     "metadata": {},
     "output_type": "execute_result"
    }
   ],
   "source": [
    "data_for_merge['ukri_grant_id'].nunique()"
   ]
  },
  {
   "cell_type": "code",
   "execution_count": 26,
   "id": "2fa785a7",
   "metadata": {},
   "outputs": [
    {
     "data": {
      "text/plain": [
       "0.5643170720781256"
      ]
     },
     "execution_count": 26,
     "metadata": {},
     "output_type": "execute_result"
    }
   ],
   "source": [
    "50389/89292"
   ]
  },
  {
   "cell_type": "code",
   "execution_count": 31,
   "id": "8d861093",
   "metadata": {},
   "outputs": [
    {
     "data": {
      "application/vnd.microsoft.datawrangler.viewer.v0+json": {
       "columns": [
        {
         "name": "index",
         "rawType": "int64",
         "type": "integer"
        },
        {
         "name": "Unnamed: 0",
         "rawType": "int64",
         "type": "integer"
        },
        {
         "name": "dimensions_grant_id",
         "rawType": "object",
         "type": "string"
        },
        {
         "name": "ukri_grant_id",
         "rawType": "object",
         "type": "string"
        },
        {
         "name": "research_council",
         "rawType": "object",
         "type": "string"
        },
        {
         "name": "start_year",
         "rawType": "int32",
         "type": "integer"
        },
        {
         "name": "start_date",
         "rawType": "datetime64[ns]",
         "type": "datetime"
        },
        {
         "name": "end_year",
         "rawType": "int32",
         "type": "integer"
        },
        {
         "name": "end_date",
         "rawType": "datetime64[ns]",
         "type": "datetime"
        },
        {
         "name": "grant_title",
         "rawType": "object",
         "type": "string"
        },
        {
         "name": "funding_gbp",
         "rawType": "float64",
         "type": "float"
        },
        {
         "name": "for_level",
         "rawType": "object",
         "type": "string"
        },
        {
         "name": "for_code",
         "rawType": "float64",
         "type": "float"
        },
        {
         "name": "for_name",
         "rawType": "object",
         "type": "string"
        },
        {
         "name": "for_count",
         "rawType": "int64",
         "type": "integer"
        },
        {
         "name": "fraction",
         "rawType": "float64",
         "type": "float"
        },
        {
         "name": "funding_frac",
         "rawType": "float64",
         "type": "float"
        }
       ],
       "ref": "7f970d91-d8eb-4510-a0f3-ccbd870707e2",
       "rows": [
        [
         "215040",
         "215040",
         "grant.14050778",
         "EP/Z532861/1",
         "Engineering and Physical Sciences Research Council",
         "2024",
         "2024-03-31 00:00:00",
         "2029",
         "2029-03-30 00:00:00",
         "The Alan Turing Institute Core Grant",
         "100000000.0",
         "FoR 2",
         "5003.0",
         "Philosophy",
         "1",
         "1.0",
         "100000000.0"
        ],
        [
         "215041",
         "215041",
         "grant.14050778",
         "EP/Z532861/1",
         "Engineering and Physical Sciences Research Council",
         "2024",
         "2024-03-31 00:00:00",
         "2029",
         "2029-03-30 00:00:00",
         "The Alan Turing Institute Core Grant",
         "100000000.0",
         "FoR 1",
         "50.0",
         "Philosophy and Religious Studies",
         "1",
         "1.0",
         "100000000.0"
        ],
        [
         "135399",
         "135399",
         "grant.12888042",
         "EP/X527257/1",
         "Engineering and Physical Sciences Research Council",
         "2022",
         "2022-03-31 00:00:00",
         "2027",
         "2027-03-30 00:00:00",
         "Royce Phase 2",
         "96000000.0",
         "FoR 1",
         "50.0",
         "Philosophy and Religious Studies",
         "2",
         "0.5",
         "48000000.0"
        ],
        [
         "175424",
         "175424",
         "grant.13252607",
         "107522",
         "UK Research and Innovation",
         "2023",
         "2023-03-31 00:00:00",
         "2026",
         "2026-03-30 00:00:00",
         "The Faraday Institution Phase 2 (107522) - F/Y2022-23 – F/Y2024-25",
         "79706464.0",
         "FoR 1",
         "50.0",
         "Philosophy and Religious Studies",
         "2",
         "0.5",
         "39853232.0"
        ],
        [
         "91407",
         "91407",
         "grant.9530186",
         "107140",
         "Innovate UK",
         "2020",
         "2020-09-30 00:00:00",
         "2026",
         "2026-09-29 00:00:00",
         "The Living Laboratory: driving economic growth in Glasgow through real world implementation of precision medicine",
         "38123332.0",
         "FoR 1",
         "50.0",
         "Philosophy and Religious Studies",
         "2",
         "0.5",
         "19061666.0"
        ],
        [
         "115141",
         "115141",
         "grant.9727190",
         "107137",
         "Innovate UK",
         "2021",
         "2021-03-31 00:00:00",
         "2027",
         "2027-03-30 00:00:00",
         "MyWorld",
         "29908140.0",
         "FoR 1",
         "50.0",
         "Philosophy and Religious Studies",
         "2",
         "0.5",
         "14954070.0"
        ],
        [
         "41536",
         "41536",
         "grant.8558159",
         "EP/T012021/1",
         "Engineering and Physical Sciences Research Council",
         "2019",
         "2019-06-30 00:00:00",
         "2022",
         "2022-03-30 00:00:00",
         "Recurrent funding for the RFI 2019 to 2021",
         "29642554.0",
         "FoR 2",
         "5002.0",
         "History and Philosophy Of Specific Fields",
         "1",
         "1.0",
         "29642554.0"
        ],
        [
         "41535",
         "41535",
         "grant.8558159",
         "EP/T012021/1",
         "Engineering and Physical Sciences Research Council",
         "2019",
         "2019-06-30 00:00:00",
         "2022",
         "2022-03-30 00:00:00",
         "Recurrent funding for the RFI 2019 to 2021",
         "29642554.0",
         "FoR 1",
         "50.0",
         "Philosophy and Religious Studies",
         "2",
         "0.5",
         "14821277.0"
        ],
        [
         "78011",
         "78011",
         "grant.9402336",
         "ES/V002740/1",
         "UK Research and Innovation",
         "2020",
         "2020-08-31 00:00:00",
         "2026",
         "2026-11-30 00:00:00",
         "The Productivity Institute",
         "26621454.0",
         "FoR 2",
         "3902.0",
         "Education Policy, Sociology and Philosophy",
         "1",
         "1.0",
         "26621454.0"
        ],
        [
         "159305",
         "159305",
         "grant.13252605",
         "640151",
         "Innovate UK",
         "2022",
         "2022-03-31 00:00:00",
         "2025",
         "2025-03-30 00:00:00",
         "EXE",
         "24096414.0",
         "FoR 1",
         "50.0",
         "Philosophy and Religious Studies",
         "2",
         "0.5",
         "12048207.0"
        ],
        [
         "79784",
         "79784",
         "grant.9450846",
         "107249",
         "UK Research and Innovation",
         "2020",
         "2020-06-30 00:00:00",
         "2026",
         "2026-03-30 00:00:00",
         "Glass Pilot Scale Facility",
         "23000000.0",
         "FoR 1",
         "50.0",
         "Philosophy and Religious Studies",
         "2",
         "0.5",
         "11500000.0"
        ],
        [
         "158152",
         "158152",
         "grant.13251638",
         "640145",
         "Innovate UK",
         "2022",
         "2022-03-31 00:00:00",
         "2025",
         "2025-03-30 00:00:00",
         "RTCN",
         "21152908.0",
         "FoR 1",
         "50.0",
         "Philosophy and Religious Studies",
         "2",
         "0.5",
         "10576454.0"
        ],
        [
         "92744",
         "92744",
         "grant.9555519",
         "EP/V521917/1",
         "Engineering and Physical Sciences Research Council",
         "2020",
         "2020-09-30 00:00:00",
         "2028",
         "2028-09-29 00:00:00",
         "Additional Funding for Mathematical Sciences: Heilbronn Institute for Mathematical Research",
         "20000000.0",
         "FoR 1",
         "50.0",
         "Philosophy and Religious Studies",
         "2",
         "0.5",
         "10000000.0"
        ],
        [
         "62339",
         "62339",
         "grant.14050391",
         "106378",
         "UK Research and Innovation",
         "2020",
         "2020-03-01 00:00:00",
         "2023",
         "2023-06-29 00:00:00",
         "Active Building Centre Ltd",
         "19491832.0",
         "FoR 1",
         "50.0",
         "Philosophy and Religious Studies",
         "2",
         "0.5",
         "9745916.0"
        ],
        [
         "101215",
         "101215",
         "grant.12914990",
         "82148",
         "Innovate UK",
         "2021",
         "2021-09-30 00:00:00",
         "2026",
         "2026-09-29 00:00:00",
         "Midlands Advanced Ceramics for Industry 4.0",
         "18269484.0",
         "FoR 1",
         "50.0",
         "Philosophy and Religious Studies",
         "2",
         "0.5",
         "9134742.0"
        ],
        [
         "94336",
         "94336",
         "grant.9624668",
         "107139",
         "Innovate UK",
         "2020",
         "2020-09-30 00:00:00",
         "2025",
         "2025-09-29 00:00:00",
         "Growing Kent & Medway",
         "17909204.0",
         "FoR 1",
         "50.0",
         "Philosophy and Religious Studies",
         "2",
         "0.5",
         "8954602.0"
        ],
        [
         "202260",
         "202260",
         "grant.14049289",
         "10077769",
         "Innovate UK",
         "2023",
         "2023-09-30 00:00:00",
         "2029",
         "2029-04-29 00:00:00",
         "Electric Orkney",
         "15533131.0",
         "FoR 1",
         "50.0",
         "Philosophy and Religious Studies",
         "2",
         "0.5",
         "7766565.5"
        ],
        [
         "214840",
         "214840",
         "grant.14050547",
         "EP/Z000580/1",
         "Engineering and Physical Sciences Research Council",
         "2024",
         "2024-03-01 00:00:00",
         "2029",
         "2029-02-28 00:00:00",
         "Isaac Newton Institute for Mathematical Sciences (INI)",
         "14739097.0",
         "FoR 2",
         "5002.0",
         "History and Philosophy Of Specific Fields",
         "1",
         "1.0",
         "14739097.0"
        ],
        [
         "214839",
         "214839",
         "grant.14050547",
         "EP/Z000580/1",
         "Engineering and Physical Sciences Research Council",
         "2024",
         "2024-03-01 00:00:00",
         "2029",
         "2029-02-28 00:00:00",
         "Isaac Newton Institute for Mathematical Sciences (INI)",
         "14739097.0",
         "FoR 1",
         "50.0",
         "Philosophy and Religious Studies",
         "1",
         "1.0",
         "14739097.0"
        ],
        [
         "157870",
         "157870",
         "grant.13251344",
         "640149",
         "Innovate UK",
         "2022",
         "2022-03-31 00:00:00",
         "2025",
         "2025-03-30 00:00:00",
         "IVY",
         "13574994.0",
         "FoR 1",
         "50.0",
         "Philosophy and Religious Studies",
         "2",
         "0.5",
         "6787497.0"
        ]
       ],
       "shape": {
        "columns": 16,
        "rows": 20
       }
      },
      "text/html": [
       "<div>\n",
       "<style scoped>\n",
       "    .dataframe tbody tr th:only-of-type {\n",
       "        vertical-align: middle;\n",
       "    }\n",
       "\n",
       "    .dataframe tbody tr th {\n",
       "        vertical-align: top;\n",
       "    }\n",
       "\n",
       "    .dataframe thead th {\n",
       "        text-align: right;\n",
       "    }\n",
       "</style>\n",
       "<table border=\"1\" class=\"dataframe\">\n",
       "  <thead>\n",
       "    <tr style=\"text-align: right;\">\n",
       "      <th></th>\n",
       "      <th>Unnamed: 0</th>\n",
       "      <th>dimensions_grant_id</th>\n",
       "      <th>ukri_grant_id</th>\n",
       "      <th>research_council</th>\n",
       "      <th>start_year</th>\n",
       "      <th>start_date</th>\n",
       "      <th>end_year</th>\n",
       "      <th>end_date</th>\n",
       "      <th>grant_title</th>\n",
       "      <th>funding_gbp</th>\n",
       "      <th>for_level</th>\n",
       "      <th>for_code</th>\n",
       "      <th>for_name</th>\n",
       "      <th>for_count</th>\n",
       "      <th>fraction</th>\n",
       "      <th>funding_frac</th>\n",
       "    </tr>\n",
       "  </thead>\n",
       "  <tbody>\n",
       "    <tr>\n",
       "      <th>215040</th>\n",
       "      <td>215040</td>\n",
       "      <td>grant.14050778</td>\n",
       "      <td>EP/Z532861/1</td>\n",
       "      <td>Engineering and Physical Sciences Research Cou...</td>\n",
       "      <td>2024</td>\n",
       "      <td>2024-03-31</td>\n",
       "      <td>2029</td>\n",
       "      <td>2029-03-30</td>\n",
       "      <td>The Alan Turing Institute Core Grant</td>\n",
       "      <td>100000000.0</td>\n",
       "      <td>FoR 2</td>\n",
       "      <td>5003.0</td>\n",
       "      <td>Philosophy</td>\n",
       "      <td>1</td>\n",
       "      <td>1.0</td>\n",
       "      <td>100000000.0</td>\n",
       "    </tr>\n",
       "    <tr>\n",
       "      <th>215041</th>\n",
       "      <td>215041</td>\n",
       "      <td>grant.14050778</td>\n",
       "      <td>EP/Z532861/1</td>\n",
       "      <td>Engineering and Physical Sciences Research Cou...</td>\n",
       "      <td>2024</td>\n",
       "      <td>2024-03-31</td>\n",
       "      <td>2029</td>\n",
       "      <td>2029-03-30</td>\n",
       "      <td>The Alan Turing Institute Core Grant</td>\n",
       "      <td>100000000.0</td>\n",
       "      <td>FoR 1</td>\n",
       "      <td>50.0</td>\n",
       "      <td>Philosophy and Religious Studies</td>\n",
       "      <td>1</td>\n",
       "      <td>1.0</td>\n",
       "      <td>100000000.0</td>\n",
       "    </tr>\n",
       "    <tr>\n",
       "      <th>135399</th>\n",
       "      <td>135399</td>\n",
       "      <td>grant.12888042</td>\n",
       "      <td>EP/X527257/1</td>\n",
       "      <td>Engineering and Physical Sciences Research Cou...</td>\n",
       "      <td>2022</td>\n",
       "      <td>2022-03-31</td>\n",
       "      <td>2027</td>\n",
       "      <td>2027-03-30</td>\n",
       "      <td>Royce Phase 2</td>\n",
       "      <td>96000000.0</td>\n",
       "      <td>FoR 1</td>\n",
       "      <td>50.0</td>\n",
       "      <td>Philosophy and Religious Studies</td>\n",
       "      <td>2</td>\n",
       "      <td>0.5</td>\n",
       "      <td>48000000.0</td>\n",
       "    </tr>\n",
       "    <tr>\n",
       "      <th>175424</th>\n",
       "      <td>175424</td>\n",
       "      <td>grant.13252607</td>\n",
       "      <td>107522</td>\n",
       "      <td>UK Research and Innovation</td>\n",
       "      <td>2023</td>\n",
       "      <td>2023-03-31</td>\n",
       "      <td>2026</td>\n",
       "      <td>2026-03-30</td>\n",
       "      <td>The Faraday Institution Phase 2 (107522) - F/Y...</td>\n",
       "      <td>79706464.0</td>\n",
       "      <td>FoR 1</td>\n",
       "      <td>50.0</td>\n",
       "      <td>Philosophy and Religious Studies</td>\n",
       "      <td>2</td>\n",
       "      <td>0.5</td>\n",
       "      <td>39853232.0</td>\n",
       "    </tr>\n",
       "    <tr>\n",
       "      <th>91407</th>\n",
       "      <td>91407</td>\n",
       "      <td>grant.9530186</td>\n",
       "      <td>107140</td>\n",
       "      <td>Innovate UK</td>\n",
       "      <td>2020</td>\n",
       "      <td>2020-09-30</td>\n",
       "      <td>2026</td>\n",
       "      <td>2026-09-29</td>\n",
       "      <td>The Living Laboratory: driving economic growth...</td>\n",
       "      <td>38123332.0</td>\n",
       "      <td>FoR 1</td>\n",
       "      <td>50.0</td>\n",
       "      <td>Philosophy and Religious Studies</td>\n",
       "      <td>2</td>\n",
       "      <td>0.5</td>\n",
       "      <td>19061666.0</td>\n",
       "    </tr>\n",
       "    <tr>\n",
       "      <th>115141</th>\n",
       "      <td>115141</td>\n",
       "      <td>grant.9727190</td>\n",
       "      <td>107137</td>\n",
       "      <td>Innovate UK</td>\n",
       "      <td>2021</td>\n",
       "      <td>2021-03-31</td>\n",
       "      <td>2027</td>\n",
       "      <td>2027-03-30</td>\n",
       "      <td>MyWorld</td>\n",
       "      <td>29908140.0</td>\n",
       "      <td>FoR 1</td>\n",
       "      <td>50.0</td>\n",
       "      <td>Philosophy and Religious Studies</td>\n",
       "      <td>2</td>\n",
       "      <td>0.5</td>\n",
       "      <td>14954070.0</td>\n",
       "    </tr>\n",
       "    <tr>\n",
       "      <th>41536</th>\n",
       "      <td>41536</td>\n",
       "      <td>grant.8558159</td>\n",
       "      <td>EP/T012021/1</td>\n",
       "      <td>Engineering and Physical Sciences Research Cou...</td>\n",
       "      <td>2019</td>\n",
       "      <td>2019-06-30</td>\n",
       "      <td>2022</td>\n",
       "      <td>2022-03-30</td>\n",
       "      <td>Recurrent funding for the RFI 2019 to 2021</td>\n",
       "      <td>29642554.0</td>\n",
       "      <td>FoR 2</td>\n",
       "      <td>5002.0</td>\n",
       "      <td>History and Philosophy Of Specific Fields</td>\n",
       "      <td>1</td>\n",
       "      <td>1.0</td>\n",
       "      <td>29642554.0</td>\n",
       "    </tr>\n",
       "    <tr>\n",
       "      <th>41535</th>\n",
       "      <td>41535</td>\n",
       "      <td>grant.8558159</td>\n",
       "      <td>EP/T012021/1</td>\n",
       "      <td>Engineering and Physical Sciences Research Cou...</td>\n",
       "      <td>2019</td>\n",
       "      <td>2019-06-30</td>\n",
       "      <td>2022</td>\n",
       "      <td>2022-03-30</td>\n",
       "      <td>Recurrent funding for the RFI 2019 to 2021</td>\n",
       "      <td>29642554.0</td>\n",
       "      <td>FoR 1</td>\n",
       "      <td>50.0</td>\n",
       "      <td>Philosophy and Religious Studies</td>\n",
       "      <td>2</td>\n",
       "      <td>0.5</td>\n",
       "      <td>14821277.0</td>\n",
       "    </tr>\n",
       "    <tr>\n",
       "      <th>78011</th>\n",
       "      <td>78011</td>\n",
       "      <td>grant.9402336</td>\n",
       "      <td>ES/V002740/1</td>\n",
       "      <td>UK Research and Innovation</td>\n",
       "      <td>2020</td>\n",
       "      <td>2020-08-31</td>\n",
       "      <td>2026</td>\n",
       "      <td>2026-11-30</td>\n",
       "      <td>The Productivity Institute</td>\n",
       "      <td>26621454.0</td>\n",
       "      <td>FoR 2</td>\n",
       "      <td>3902.0</td>\n",
       "      <td>Education Policy, Sociology and Philosophy</td>\n",
       "      <td>1</td>\n",
       "      <td>1.0</td>\n",
       "      <td>26621454.0</td>\n",
       "    </tr>\n",
       "    <tr>\n",
       "      <th>159305</th>\n",
       "      <td>159305</td>\n",
       "      <td>grant.13252605</td>\n",
       "      <td>640151</td>\n",
       "      <td>Innovate UK</td>\n",
       "      <td>2022</td>\n",
       "      <td>2022-03-31</td>\n",
       "      <td>2025</td>\n",
       "      <td>2025-03-30</td>\n",
       "      <td>EXE</td>\n",
       "      <td>24096414.0</td>\n",
       "      <td>FoR 1</td>\n",
       "      <td>50.0</td>\n",
       "      <td>Philosophy and Religious Studies</td>\n",
       "      <td>2</td>\n",
       "      <td>0.5</td>\n",
       "      <td>12048207.0</td>\n",
       "    </tr>\n",
       "    <tr>\n",
       "      <th>79784</th>\n",
       "      <td>79784</td>\n",
       "      <td>grant.9450846</td>\n",
       "      <td>107249</td>\n",
       "      <td>UK Research and Innovation</td>\n",
       "      <td>2020</td>\n",
       "      <td>2020-06-30</td>\n",
       "      <td>2026</td>\n",
       "      <td>2026-03-30</td>\n",
       "      <td>Glass Pilot Scale Facility</td>\n",
       "      <td>23000000.0</td>\n",
       "      <td>FoR 1</td>\n",
       "      <td>50.0</td>\n",
       "      <td>Philosophy and Religious Studies</td>\n",
       "      <td>2</td>\n",
       "      <td>0.5</td>\n",
       "      <td>11500000.0</td>\n",
       "    </tr>\n",
       "    <tr>\n",
       "      <th>158152</th>\n",
       "      <td>158152</td>\n",
       "      <td>grant.13251638</td>\n",
       "      <td>640145</td>\n",
       "      <td>Innovate UK</td>\n",
       "      <td>2022</td>\n",
       "      <td>2022-03-31</td>\n",
       "      <td>2025</td>\n",
       "      <td>2025-03-30</td>\n",
       "      <td>RTCN</td>\n",
       "      <td>21152908.0</td>\n",
       "      <td>FoR 1</td>\n",
       "      <td>50.0</td>\n",
       "      <td>Philosophy and Religious Studies</td>\n",
       "      <td>2</td>\n",
       "      <td>0.5</td>\n",
       "      <td>10576454.0</td>\n",
       "    </tr>\n",
       "    <tr>\n",
       "      <th>92744</th>\n",
       "      <td>92744</td>\n",
       "      <td>grant.9555519</td>\n",
       "      <td>EP/V521917/1</td>\n",
       "      <td>Engineering and Physical Sciences Research Cou...</td>\n",
       "      <td>2020</td>\n",
       "      <td>2020-09-30</td>\n",
       "      <td>2028</td>\n",
       "      <td>2028-09-29</td>\n",
       "      <td>Additional Funding for Mathematical Sciences: ...</td>\n",
       "      <td>20000000.0</td>\n",
       "      <td>FoR 1</td>\n",
       "      <td>50.0</td>\n",
       "      <td>Philosophy and Religious Studies</td>\n",
       "      <td>2</td>\n",
       "      <td>0.5</td>\n",
       "      <td>10000000.0</td>\n",
       "    </tr>\n",
       "    <tr>\n",
       "      <th>62339</th>\n",
       "      <td>62339</td>\n",
       "      <td>grant.14050391</td>\n",
       "      <td>106378</td>\n",
       "      <td>UK Research and Innovation</td>\n",
       "      <td>2020</td>\n",
       "      <td>2020-03-01</td>\n",
       "      <td>2023</td>\n",
       "      <td>2023-06-29</td>\n",
       "      <td>Active Building Centre Ltd</td>\n",
       "      <td>19491832.0</td>\n",
       "      <td>FoR 1</td>\n",
       "      <td>50.0</td>\n",
       "      <td>Philosophy and Religious Studies</td>\n",
       "      <td>2</td>\n",
       "      <td>0.5</td>\n",
       "      <td>9745916.0</td>\n",
       "    </tr>\n",
       "    <tr>\n",
       "      <th>101215</th>\n",
       "      <td>101215</td>\n",
       "      <td>grant.12914990</td>\n",
       "      <td>82148</td>\n",
       "      <td>Innovate UK</td>\n",
       "      <td>2021</td>\n",
       "      <td>2021-09-30</td>\n",
       "      <td>2026</td>\n",
       "      <td>2026-09-29</td>\n",
       "      <td>Midlands Advanced Ceramics for Industry 4.0</td>\n",
       "      <td>18269484.0</td>\n",
       "      <td>FoR 1</td>\n",
       "      <td>50.0</td>\n",
       "      <td>Philosophy and Religious Studies</td>\n",
       "      <td>2</td>\n",
       "      <td>0.5</td>\n",
       "      <td>9134742.0</td>\n",
       "    </tr>\n",
       "    <tr>\n",
       "      <th>94336</th>\n",
       "      <td>94336</td>\n",
       "      <td>grant.9624668</td>\n",
       "      <td>107139</td>\n",
       "      <td>Innovate UK</td>\n",
       "      <td>2020</td>\n",
       "      <td>2020-09-30</td>\n",
       "      <td>2025</td>\n",
       "      <td>2025-09-29</td>\n",
       "      <td>Growing Kent &amp; Medway</td>\n",
       "      <td>17909204.0</td>\n",
       "      <td>FoR 1</td>\n",
       "      <td>50.0</td>\n",
       "      <td>Philosophy and Religious Studies</td>\n",
       "      <td>2</td>\n",
       "      <td>0.5</td>\n",
       "      <td>8954602.0</td>\n",
       "    </tr>\n",
       "    <tr>\n",
       "      <th>202260</th>\n",
       "      <td>202260</td>\n",
       "      <td>grant.14049289</td>\n",
       "      <td>10077769</td>\n",
       "      <td>Innovate UK</td>\n",
       "      <td>2023</td>\n",
       "      <td>2023-09-30</td>\n",
       "      <td>2029</td>\n",
       "      <td>2029-04-29</td>\n",
       "      <td>Electric Orkney</td>\n",
       "      <td>15533131.0</td>\n",
       "      <td>FoR 1</td>\n",
       "      <td>50.0</td>\n",
       "      <td>Philosophy and Religious Studies</td>\n",
       "      <td>2</td>\n",
       "      <td>0.5</td>\n",
       "      <td>7766565.5</td>\n",
       "    </tr>\n",
       "    <tr>\n",
       "      <th>214840</th>\n",
       "      <td>214840</td>\n",
       "      <td>grant.14050547</td>\n",
       "      <td>EP/Z000580/1</td>\n",
       "      <td>Engineering and Physical Sciences Research Cou...</td>\n",
       "      <td>2024</td>\n",
       "      <td>2024-03-01</td>\n",
       "      <td>2029</td>\n",
       "      <td>2029-02-28</td>\n",
       "      <td>Isaac Newton Institute for Mathematical Scienc...</td>\n",
       "      <td>14739097.0</td>\n",
       "      <td>FoR 2</td>\n",
       "      <td>5002.0</td>\n",
       "      <td>History and Philosophy Of Specific Fields</td>\n",
       "      <td>1</td>\n",
       "      <td>1.0</td>\n",
       "      <td>14739097.0</td>\n",
       "    </tr>\n",
       "    <tr>\n",
       "      <th>214839</th>\n",
       "      <td>214839</td>\n",
       "      <td>grant.14050547</td>\n",
       "      <td>EP/Z000580/1</td>\n",
       "      <td>Engineering and Physical Sciences Research Cou...</td>\n",
       "      <td>2024</td>\n",
       "      <td>2024-03-01</td>\n",
       "      <td>2029</td>\n",
       "      <td>2029-02-28</td>\n",
       "      <td>Isaac Newton Institute for Mathematical Scienc...</td>\n",
       "      <td>14739097.0</td>\n",
       "      <td>FoR 1</td>\n",
       "      <td>50.0</td>\n",
       "      <td>Philosophy and Religious Studies</td>\n",
       "      <td>1</td>\n",
       "      <td>1.0</td>\n",
       "      <td>14739097.0</td>\n",
       "    </tr>\n",
       "    <tr>\n",
       "      <th>157870</th>\n",
       "      <td>157870</td>\n",
       "      <td>grant.13251344</td>\n",
       "      <td>640149</td>\n",
       "      <td>Innovate UK</td>\n",
       "      <td>2022</td>\n",
       "      <td>2022-03-31</td>\n",
       "      <td>2025</td>\n",
       "      <td>2025-03-30</td>\n",
       "      <td>IVY</td>\n",
       "      <td>13574994.0</td>\n",
       "      <td>FoR 1</td>\n",
       "      <td>50.0</td>\n",
       "      <td>Philosophy and Religious Studies</td>\n",
       "      <td>2</td>\n",
       "      <td>0.5</td>\n",
       "      <td>6787497.0</td>\n",
       "    </tr>\n",
       "  </tbody>\n",
       "</table>\n",
       "</div>"
      ],
      "text/plain": [
       "        Unnamed: 0 dimensions_grant_id ukri_grant_id  \\\n",
       "215040      215040      grant.14050778  EP/Z532861/1   \n",
       "215041      215041      grant.14050778  EP/Z532861/1   \n",
       "135399      135399      grant.12888042  EP/X527257/1   \n",
       "175424      175424      grant.13252607        107522   \n",
       "91407        91407       grant.9530186        107140   \n",
       "115141      115141       grant.9727190        107137   \n",
       "41536        41536       grant.8558159  EP/T012021/1   \n",
       "41535        41535       grant.8558159  EP/T012021/1   \n",
       "78011        78011       grant.9402336  ES/V002740/1   \n",
       "159305      159305      grant.13252605        640151   \n",
       "79784        79784       grant.9450846        107249   \n",
       "158152      158152      grant.13251638        640145   \n",
       "92744        92744       grant.9555519  EP/V521917/1   \n",
       "62339        62339      grant.14050391        106378   \n",
       "101215      101215      grant.12914990         82148   \n",
       "94336        94336       grant.9624668        107139   \n",
       "202260      202260      grant.14049289      10077769   \n",
       "214840      214840      grant.14050547  EP/Z000580/1   \n",
       "214839      214839      grant.14050547  EP/Z000580/1   \n",
       "157870      157870      grant.13251344        640149   \n",
       "\n",
       "                                         research_council  start_year  \\\n",
       "215040  Engineering and Physical Sciences Research Cou...        2024   \n",
       "215041  Engineering and Physical Sciences Research Cou...        2024   \n",
       "135399  Engineering and Physical Sciences Research Cou...        2022   \n",
       "175424                         UK Research and Innovation        2023   \n",
       "91407                                         Innovate UK        2020   \n",
       "115141                                        Innovate UK        2021   \n",
       "41536   Engineering and Physical Sciences Research Cou...        2019   \n",
       "41535   Engineering and Physical Sciences Research Cou...        2019   \n",
       "78011                          UK Research and Innovation        2020   \n",
       "159305                                        Innovate UK        2022   \n",
       "79784                          UK Research and Innovation        2020   \n",
       "158152                                        Innovate UK        2022   \n",
       "92744   Engineering and Physical Sciences Research Cou...        2020   \n",
       "62339                          UK Research and Innovation        2020   \n",
       "101215                                        Innovate UK        2021   \n",
       "94336                                         Innovate UK        2020   \n",
       "202260                                        Innovate UK        2023   \n",
       "214840  Engineering and Physical Sciences Research Cou...        2024   \n",
       "214839  Engineering and Physical Sciences Research Cou...        2024   \n",
       "157870                                        Innovate UK        2022   \n",
       "\n",
       "       start_date  end_year   end_date  \\\n",
       "215040 2024-03-31      2029 2029-03-30   \n",
       "215041 2024-03-31      2029 2029-03-30   \n",
       "135399 2022-03-31      2027 2027-03-30   \n",
       "175424 2023-03-31      2026 2026-03-30   \n",
       "91407  2020-09-30      2026 2026-09-29   \n",
       "115141 2021-03-31      2027 2027-03-30   \n",
       "41536  2019-06-30      2022 2022-03-30   \n",
       "41535  2019-06-30      2022 2022-03-30   \n",
       "78011  2020-08-31      2026 2026-11-30   \n",
       "159305 2022-03-31      2025 2025-03-30   \n",
       "79784  2020-06-30      2026 2026-03-30   \n",
       "158152 2022-03-31      2025 2025-03-30   \n",
       "92744  2020-09-30      2028 2028-09-29   \n",
       "62339  2020-03-01      2023 2023-06-29   \n",
       "101215 2021-09-30      2026 2026-09-29   \n",
       "94336  2020-09-30      2025 2025-09-29   \n",
       "202260 2023-09-30      2029 2029-04-29   \n",
       "214840 2024-03-01      2029 2029-02-28   \n",
       "214839 2024-03-01      2029 2029-02-28   \n",
       "157870 2022-03-31      2025 2025-03-30   \n",
       "\n",
       "                                              grant_title  funding_gbp  \\\n",
       "215040               The Alan Turing Institute Core Grant  100000000.0   \n",
       "215041               The Alan Turing Institute Core Grant  100000000.0   \n",
       "135399                                      Royce Phase 2   96000000.0   \n",
       "175424  The Faraday Institution Phase 2 (107522) - F/Y...   79706464.0   \n",
       "91407   The Living Laboratory: driving economic growth...   38123332.0   \n",
       "115141                                            MyWorld   29908140.0   \n",
       "41536          Recurrent funding for the RFI 2019 to 2021   29642554.0   \n",
       "41535          Recurrent funding for the RFI 2019 to 2021   29642554.0   \n",
       "78011                          The Productivity Institute   26621454.0   \n",
       "159305                                                EXE   24096414.0   \n",
       "79784                          Glass Pilot Scale Facility   23000000.0   \n",
       "158152                                               RTCN   21152908.0   \n",
       "92744   Additional Funding for Mathematical Sciences: ...   20000000.0   \n",
       "62339                          Active Building Centre Ltd   19491832.0   \n",
       "101215        Midlands Advanced Ceramics for Industry 4.0   18269484.0   \n",
       "94336                               Growing Kent & Medway   17909204.0   \n",
       "202260                                    Electric Orkney   15533131.0   \n",
       "214840  Isaac Newton Institute for Mathematical Scienc...   14739097.0   \n",
       "214839  Isaac Newton Institute for Mathematical Scienc...   14739097.0   \n",
       "157870                                                IVY   13574994.0   \n",
       "\n",
       "       for_level  for_code                                    for_name  \\\n",
       "215040     FoR 2    5003.0                                  Philosophy   \n",
       "215041     FoR 1      50.0            Philosophy and Religious Studies   \n",
       "135399     FoR 1      50.0            Philosophy and Religious Studies   \n",
       "175424     FoR 1      50.0            Philosophy and Religious Studies   \n",
       "91407      FoR 1      50.0            Philosophy and Religious Studies   \n",
       "115141     FoR 1      50.0            Philosophy and Religious Studies   \n",
       "41536      FoR 2    5002.0   History and Philosophy Of Specific Fields   \n",
       "41535      FoR 1      50.0            Philosophy and Religious Studies   \n",
       "78011      FoR 2    3902.0  Education Policy, Sociology and Philosophy   \n",
       "159305     FoR 1      50.0            Philosophy and Religious Studies   \n",
       "79784      FoR 1      50.0            Philosophy and Religious Studies   \n",
       "158152     FoR 1      50.0            Philosophy and Religious Studies   \n",
       "92744      FoR 1      50.0            Philosophy and Religious Studies   \n",
       "62339      FoR 1      50.0            Philosophy and Religious Studies   \n",
       "101215     FoR 1      50.0            Philosophy and Religious Studies   \n",
       "94336      FoR 1      50.0            Philosophy and Religious Studies   \n",
       "202260     FoR 1      50.0            Philosophy and Religious Studies   \n",
       "214840     FoR 2    5002.0   History and Philosophy Of Specific Fields   \n",
       "214839     FoR 1      50.0            Philosophy and Religious Studies   \n",
       "157870     FoR 1      50.0            Philosophy and Religious Studies   \n",
       "\n",
       "        for_count  fraction  funding_frac  \n",
       "215040          1       1.0   100000000.0  \n",
       "215041          1       1.0   100000000.0  \n",
       "135399          2       0.5    48000000.0  \n",
       "175424          2       0.5    39853232.0  \n",
       "91407           2       0.5    19061666.0  \n",
       "115141          2       0.5    14954070.0  \n",
       "41536           1       1.0    29642554.0  \n",
       "41535           2       0.5    14821277.0  \n",
       "78011           1       1.0    26621454.0  \n",
       "159305          2       0.5    12048207.0  \n",
       "79784           2       0.5    11500000.0  \n",
       "158152          2       0.5    10576454.0  \n",
       "92744           2       0.5    10000000.0  \n",
       "62339           2       0.5     9745916.0  \n",
       "101215          2       0.5     9134742.0  \n",
       "94336           2       0.5     8954602.0  \n",
       "202260          2       0.5     7766565.5  \n",
       "214840          1       1.0    14739097.0  \n",
       "214839          1       1.0    14739097.0  \n",
       "157870          2       0.5     6787497.0  "
      ]
     },
     "execution_count": 31,
     "metadata": {},
     "output_type": "execute_result"
    }
   ],
   "source": [
    "data_for_merge[data_for_merge['for_name'].str.contains('Philosophy')].sort_values(by='funding_gbp', ascending=False).head(20)"
   ]
  },
  {
   "cell_type": "code",
   "execution_count": null,
   "id": "6a3a1423",
   "metadata": {},
   "outputs": [],
   "source": []
  }
 ],
 "metadata": {
  "kernelspec": {
   "display_name": "myenv",
   "language": "python",
   "name": "python3"
  },
  "language_info": {
   "codemirror_mode": {
    "name": "ipython",
    "version": 3
   },
   "file_extension": ".py",
   "mimetype": "text/x-python",
   "name": "python",
   "nbconvert_exporter": "python",
   "pygments_lexer": "ipython3",
   "version": "3.13.5"
  }
 },
 "nbformat": 4,
 "nbformat_minor": 5
}
